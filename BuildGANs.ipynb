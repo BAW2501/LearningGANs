{
 "cells": [
  {
   "cell_type": "code",
   "execution_count": null,
   "metadata": {},
   "outputs": [],
   "source": [
    "import keras\n",
    "import matplotlib.pyplot as plt\n",
    "import numpy as np"
   ]
  },
  {
   "cell_type": "code",
   "execution_count": null,
   "metadata": {},
   "outputs": [],
   "source": [
    "dataset = keras.datasets.mnist.load_data()"
   ]
  },
  {
   "cell_type": "code",
   "execution_count": null,
   "metadata": {},
   "outputs": [],
   "source": [
    "(x_train, y_train), (x_test, y_test) = dataset"
   ]
  },
  {
   "cell_type": "code",
   "execution_count": null,
   "metadata": {},
   "outputs": [],
   "source": [
    "\n",
    "for i in range(9):\n",
    "    plt.subplot(3,3,i+1)\n",
    "    plt.imshow(x_train[i], cmap=plt.get_cmap('gray'))\n",
    "    plt.title(y_train[i])\n",
    "    \n"
   ]
  },
  {
   "cell_type": "code",
   "execution_count": null,
   "metadata": {},
   "outputs": [],
   "source": [
    "rows, cols,channels = 28, 28, 1\n",
    "img_shape = (rows, cols, channels)\n",
    "noise_shape = (128,)"
   ]
  },
  {
   "cell_type": "code",
   "execution_count": null,
   "metadata": {},
   "outputs": [],
   "source": [
    "def build_generator():\n",
    "    return keras.Sequential(\n",
    "        [\n",
    "            keras.layers.InputLayer(shape=noise_shape),\n",
    "            keras.layers.Dense(256),\n",
    "            keras.layers.LeakyReLU(negative_slope=0.2),\n",
    "            keras.layers.BatchNormalization(),\n",
    "            keras.layers.Dense(512),\n",
    "            keras.layers.LeakyReLU(negative_slope=0.2),\n",
    "            keras.layers.BatchNormalization(),\n",
    "            keras.layers.Dense(1024),\n",
    "            keras.layers.LeakyReLU(negative_slope=0.2),\n",
    "            keras.layers.BatchNormalization(),\n",
    "            keras.layers.Dense(np.prod(img_shape), activation=\"tanh\"),\n",
    "            keras.layers.Reshape(img_shape),\n",
    "        ]\n",
    "        ,name=\"generator\"\n",
    "    )\n",
    "\n",
    "def build_discriminator():\n",
    "    return keras.Sequential(\n",
    "        [\n",
    "            keras.layers.InputLayer(shape=img_shape),\n",
    "            keras.layers.Flatten(),\n",
    "            keras.layers.Dense(512),\n",
    "            keras.layers.LeakyReLU(negative_slope=0.2),\n",
    "            keras.layers.Dense(256),\n",
    "            keras.layers.LeakyReLU(negative_slope=0.2),\n",
    "            keras.layers.Dense(1, activation=\"sigmoid\"),\n",
    "        ],\n",
    "        name=\"discriminator\",\n",
    "    )\n"
   ]
  },
  {
   "cell_type": "code",
   "execution_count": null,
   "metadata": {},
   "outputs": [],
   "source": [
    "epochs = 100\n",
    "batch_size = 32\n",
    "save_interval = 10\n",
    "half_batch = batch_size // 2\n",
    "optimizer = keras.optimizers.Adam(learning_rate=0.0002, beta_1=0.5)\n",
    "generator = build_generator()\n",
    "discriminator = build_discriminator()\n",
    "generator.compile(optimizer=optimizer, loss=\"binary_crossentropy\")\n",
    "discriminator.compile(optimizer=optimizer, loss=\"binary_crossentropy\", metrics=[\"accuracy\"])\n",
    "\n",
    "z = keras.Input(shape=noise_shape)\n",
    "img = generator(z)\n",
    "discriminator.trainable = False\n",
    "valid = discriminator(img)\n",
    "\n",
    "combined = keras.Model(z, valid)\n",
    "combined.compile(optimizer=optimizer, loss=\"binary_crossentropy\", metrics=[\"accuracy\"])\n",
    "\n",
    "    \n",
    "def save_imgs(epoch):\n",
    "    r, c = 5, 5\n",
    "    noise = np.random.normal(0, 1, (r * c, 128))\n",
    "    gen_imgs = generator.predict(noise, verbose=0)\n",
    "\n",
    "    # Rescale images 0 - 1\n",
    "    gen_imgs = 0.5 * gen_imgs + 0.5\n",
    "\n",
    "    fig, axs = plt.subplots(r, c)\n",
    "    cnt = 0\n",
    "    for i in range(r):\n",
    "        for j in range(c):\n",
    "            axs[i,j].imshow(gen_imgs[cnt, :,:,0], cmap='gray')\n",
    "            axs[i,j].axis('off')\n",
    "            cnt += 1\n",
    "    fig.savefig(f\"images/mnist_{epoch}.png\" )\n",
    "    plt.close()"
   ]
  },
  {
   "cell_type": "code",
   "execution_count": null,
   "metadata": {},
   "outputs": [],
   "source": [
    "# scale the images so [0,255] -> [-1, 1]\n",
    "x_train = x_train.astype(\"float32\") / (255/2) - 1\n",
    "x_test = x_test.astype(\"float32\") / (255/2) - 1\n",
    "# expand the channel dimension\n",
    "x_train = np.expand_dims(x_train, -1)\n",
    "x_test = np.expand_dims(x_test, -1)\n",
    "\n",
    "for epoch in range(epochs):\n",
    "    # ---------------------\n",
    "    #  Train Discriminator\n",
    "    # ---------------------\n",
    "\n",
    "    # Select a random half batch of images\n",
    "    idx = np.random.randint(0, x_train.shape[0], half_batch)\n",
    "    imgs = x_train[idx]\n",
    "\n",
    "    # Sample noise and generate a batch of new images\n",
    "    noise = np.random.normal(0, 1, (half_batch, 128))\n",
    "    gen_imgs = generator.predict(noise, verbose=0)\n",
    "\n",
    "    # Train the discriminator\n",
    "    d_loss_real =  discriminator.train_on_batch(imgs,np.ones((half_batch,1)))\n",
    "    d_loss_fake = discriminator.train_on_batch(gen_imgs,np.zeros((half_batch,1)))\n",
    "    \n",
    "    d_loss = 0.5 * np.add(d_loss_real, d_loss_fake)\n",
    "    # ---------------------\n",
    "    #  Train Generator\n",
    "    # ---------------------\n",
    "    noise = np.random.normal(0, 1, (batch_size, 128))\n",
    "\n",
    "    # Train the generator\n",
    "    g_loss = combined.train_on_batch(noise, np.ones((batch_size, 1)))\n",
    "    \n",
    "\n",
    "    print(f\"{epoch} [D loss: {d_loss[0]:.4f}, acc.: {100*d_loss[1]:.2f}%] [G loss: {g_loss:.4f}]\")\n",
    "    \n",
    "    if epoch % save_interval == 0:\n",
    "        # save the _images \n",
    "        save_imgs(epoch)"
   ]
  },
  {
   "cell_type": "code",
   "execution_count": null,
   "metadata": {},
   "outputs": [],
   "source": [
    "generator.save(f\"generator{epoch}.keras\")"
   ]
  },
  {
   "cell_type": "code",
   "execution_count": null,
   "metadata": {},
   "outputs": [],
   "source": []
  }
 ],
 "metadata": {
  "kernelspec": {
   "display_name": "Python 3",
   "language": "python",
   "name": "python3"
  },
  "language_info": {
   "codemirror_mode": {
    "name": "ipython",
    "version": 3
   },
   "file_extension": ".py",
   "mimetype": "text/x-python",
   "name": "python",
   "nbconvert_exporter": "python",
   "pygments_lexer": "ipython3",
   "version": "3.12.3"
  }
 },
 "nbformat": 4,
 "nbformat_minor": 2
}
